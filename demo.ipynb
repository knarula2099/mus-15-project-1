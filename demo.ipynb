{
 "cells": [
  {
   "cell_type": "code",
   "execution_count": 31,
   "metadata": {},
   "outputs": [
    {
     "name": "stdout",
     "output_type": "stream",
     "text": [
      "Requirement already satisfied: sounddevice in c:\\users\\karan\\appdata\\local\\packages\\pythonsoftwarefoundation.python.3.11_qbz5n2kfra8p0\\localcache\\local-packages\\python311\\site-packages (0.4.7)\n",
      "Requirement already satisfied: CFFI>=1.0 in c:\\users\\karan\\appdata\\local\\packages\\pythonsoftwarefoundation.python.3.11_qbz5n2kfra8p0\\localcache\\local-packages\\python311\\site-packages (from sounddevice) (1.15.1)\n",
      "Requirement already satisfied: pycparser in c:\\users\\karan\\appdata\\local\\packages\\pythonsoftwarefoundation.python.3.11_qbz5n2kfra8p0\\localcache\\local-packages\\python311\\site-packages (from CFFI>=1.0->sounddevice) (2.21)\n",
      "Note: you may need to restart the kernel to use updated packages.\n",
      "Requirement already satisfied: librosa in c:\\users\\karan\\appdata\\local\\packages\\pythonsoftwarefoundation.python.3.11_qbz5n2kfra8p0\\localcache\\local-packages\\python311\\site-packages (0.10.2.post1)\n",
      "Requirement already satisfied: audioread>=2.1.9 in c:\\users\\karan\\appdata\\local\\packages\\pythonsoftwarefoundation.python.3.11_qbz5n2kfra8p0\\localcache\\local-packages\\python311\\site-packages (from librosa) (3.0.1)\n",
      "Requirement already satisfied: numpy!=1.22.0,!=1.22.1,!=1.22.2,>=1.20.3 in c:\\users\\karan\\appdata\\local\\packages\\pythonsoftwarefoundation.python.3.11_qbz5n2kfra8p0\\localcache\\local-packages\\python311\\site-packages (from librosa) (1.25.2)\n",
      "Requirement already satisfied: scipy>=1.2.0 in c:\\users\\karan\\appdata\\local\\packages\\pythonsoftwarefoundation.python.3.11_qbz5n2kfra8p0\\localcache\\local-packages\\python311\\site-packages (from librosa) (1.11.1)\n",
      "Requirement already satisfied: scikit-learn>=0.20.0 in c:\\users\\karan\\appdata\\local\\packages\\pythonsoftwarefoundation.python.3.11_qbz5n2kfra8p0\\localcache\\local-packages\\python311\\site-packages (from librosa) (1.4.1.post1)\n",
      "Requirement already satisfied: joblib>=0.14 in c:\\users\\karan\\appdata\\local\\packages\\pythonsoftwarefoundation.python.3.11_qbz5n2kfra8p0\\localcache\\local-packages\\python311\\site-packages (from librosa) (1.3.2)\n",
      "Requirement already satisfied: decorator>=4.3.0 in c:\\users\\karan\\appdata\\local\\packages\\pythonsoftwarefoundation.python.3.11_qbz5n2kfra8p0\\localcache\\local-packages\\python311\\site-packages (from librosa) (5.1.1)\n",
      "Requirement already satisfied: numba>=0.51.0 in c:\\users\\karan\\appdata\\local\\packages\\pythonsoftwarefoundation.python.3.11_qbz5n2kfra8p0\\localcache\\local-packages\\python311\\site-packages (from librosa) (0.59.1)\n",
      "Requirement already satisfied: soundfile>=0.12.1 in c:\\users\\karan\\appdata\\local\\packages\\pythonsoftwarefoundation.python.3.11_qbz5n2kfra8p0\\localcache\\local-packages\\python311\\site-packages (from librosa) (0.12.1)\n",
      "Requirement already satisfied: pooch>=1.1 in c:\\users\\karan\\appdata\\local\\packages\\pythonsoftwarefoundation.python.3.11_qbz5n2kfra8p0\\localcache\\local-packages\\python311\\site-packages (from librosa) (1.8.1)\n",
      "Requirement already satisfied: soxr>=0.3.2 in c:\\users\\karan\\appdata\\local\\packages\\pythonsoftwarefoundation.python.3.11_qbz5n2kfra8p0\\localcache\\local-packages\\python311\\site-packages (from librosa) (0.3.7)\n",
      "Requirement already satisfied: typing-extensions>=4.1.1 in c:\\users\\karan\\appdata\\local\\packages\\pythonsoftwarefoundation.python.3.11_qbz5n2kfra8p0\\localcache\\local-packages\\python311\\site-packages (from librosa) (4.11.0)\n",
      "Requirement already satisfied: lazy-loader>=0.1 in c:\\users\\karan\\appdata\\local\\packages\\pythonsoftwarefoundation.python.3.11_qbz5n2kfra8p0\\localcache\\local-packages\\python311\\site-packages (from librosa) (0.4)\n",
      "Requirement already satisfied: msgpack>=1.0 in c:\\users\\karan\\appdata\\local\\packages\\pythonsoftwarefoundation.python.3.11_qbz5n2kfra8p0\\localcache\\local-packages\\python311\\site-packages (from librosa) (1.0.8)\n",
      "Requirement already satisfied: packaging in c:\\users\\karan\\appdata\\local\\packages\\pythonsoftwarefoundation.python.3.11_qbz5n2kfra8p0\\localcache\\local-packages\\python311\\site-packages (from lazy-loader>=0.1->librosa) (23.1)\n",
      "Requirement already satisfied: llvmlite<0.43,>=0.42.0dev0 in c:\\users\\karan\\appdata\\local\\packages\\pythonsoftwarefoundation.python.3.11_qbz5n2kfra8p0\\localcache\\local-packages\\python311\\site-packages (from numba>=0.51.0->librosa) (0.42.0)\n",
      "Requirement already satisfied: platformdirs>=2.5.0 in c:\\users\\karan\\appdata\\local\\packages\\pythonsoftwarefoundation.python.3.11_qbz5n2kfra8p0\\localcache\\local-packages\\python311\\site-packages (from pooch>=1.1->librosa) (3.8.1)\n",
      "Requirement already satisfied: requests>=2.19.0 in c:\\users\\karan\\appdata\\local\\packages\\pythonsoftwarefoundation.python.3.11_qbz5n2kfra8p0\\localcache\\local-packages\\python311\\site-packages (from pooch>=1.1->librosa) (2.31.0)\n",
      "Requirement already satisfied: threadpoolctl>=2.0.0 in c:\\users\\karan\\appdata\\local\\packages\\pythonsoftwarefoundation.python.3.11_qbz5n2kfra8p0\\localcache\\local-packages\\python311\\site-packages (from scikit-learn>=0.20.0->librosa) (3.3.0)\n",
      "Requirement already satisfied: cffi>=1.0 in c:\\users\\karan\\appdata\\local\\packages\\pythonsoftwarefoundation.python.3.11_qbz5n2kfra8p0\\localcache\\local-packages\\python311\\site-packages (from soundfile>=0.12.1->librosa) (1.15.1)\n",
      "Requirement already satisfied: pycparser in c:\\users\\karan\\appdata\\local\\packages\\pythonsoftwarefoundation.python.3.11_qbz5n2kfra8p0\\localcache\\local-packages\\python311\\site-packages (from cffi>=1.0->soundfile>=0.12.1->librosa) (2.21)\n",
      "Requirement already satisfied: charset-normalizer<4,>=2 in c:\\users\\karan\\appdata\\local\\packages\\pythonsoftwarefoundation.python.3.11_qbz5n2kfra8p0\\localcache\\local-packages\\python311\\site-packages (from requests>=2.19.0->pooch>=1.1->librosa) (3.2.0)\n",
      "Requirement already satisfied: idna<4,>=2.5 in c:\\users\\karan\\appdata\\local\\packages\\pythonsoftwarefoundation.python.3.11_qbz5n2kfra8p0\\localcache\\local-packages\\python311\\site-packages (from requests>=2.19.0->pooch>=1.1->librosa) (3.4)\n",
      "Requirement already satisfied: urllib3<3,>=1.21.1 in c:\\users\\karan\\appdata\\local\\packages\\pythonsoftwarefoundation.python.3.11_qbz5n2kfra8p0\\localcache\\local-packages\\python311\\site-packages (from requests>=2.19.0->pooch>=1.1->librosa) (1.26.16)\n",
      "Requirement already satisfied: certifi>=2017.4.17 in c:\\users\\karan\\appdata\\local\\packages\\pythonsoftwarefoundation.python.3.11_qbz5n2kfra8p0\\localcache\\local-packages\\python311\\site-packages (from requests>=2.19.0->pooch>=1.1->librosa) (2023.7.22)\n",
      "Note: you may need to restart the kernel to use updated packages.\n",
      "Collecting music21\n",
      "  Downloading music21-9.1.0-py3-none-any.whl.metadata (4.8 kB)\n",
      "Collecting chardet (from music21)\n",
      "  Downloading chardet-5.2.0-py3-none-any.whl.metadata (3.4 kB)\n",
      "Requirement already satisfied: joblib in c:\\users\\karan\\appdata\\local\\packages\\pythonsoftwarefoundation.python.3.11_qbz5n2kfra8p0\\localcache\\local-packages\\python311\\site-packages (from music21) (1.3.2)\n",
      "Collecting jsonpickle (from music21)\n",
      "  Downloading jsonpickle-3.0.4-py3-none-any.whl.metadata (2.6 kB)\n",
      "Requirement already satisfied: matplotlib in c:\\users\\karan\\appdata\\local\\packages\\pythonsoftwarefoundation.python.3.11_qbz5n2kfra8p0\\localcache\\local-packages\\python311\\site-packages (from music21) (3.7.2)\n",
      "Collecting more-itertools (from music21)\n",
      "  Downloading more_itertools-10.2.0-py3-none-any.whl.metadata (34 kB)\n",
      "Requirement already satisfied: numpy in c:\\users\\karan\\appdata\\local\\packages\\pythonsoftwarefoundation.python.3.11_qbz5n2kfra8p0\\localcache\\local-packages\\python311\\site-packages (from music21) (1.25.2)\n",
      "Requirement already satisfied: requests in c:\\users\\karan\\appdata\\local\\packages\\pythonsoftwarefoundation.python.3.11_qbz5n2kfra8p0\\localcache\\local-packages\\python311\\site-packages (from music21) (2.31.0)\n",
      "Collecting webcolors>=1.5 (from music21)\n",
      "  Downloading webcolors-1.13-py3-none-any.whl.metadata (2.6 kB)\n",
      "Requirement already satisfied: contourpy>=1.0.1 in c:\\users\\karan\\appdata\\local\\packages\\pythonsoftwarefoundation.python.3.11_qbz5n2kfra8p0\\localcache\\local-packages\\python311\\site-packages (from matplotlib->music21) (1.1.0)\n",
      "Requirement already satisfied: cycler>=0.10 in c:\\users\\karan\\appdata\\local\\packages\\pythonsoftwarefoundation.python.3.11_qbz5n2kfra8p0\\localcache\\local-packages\\python311\\site-packages (from matplotlib->music21) (0.11.0)\n",
      "Requirement already satisfied: fonttools>=4.22.0 in c:\\users\\karan\\appdata\\local\\packages\\pythonsoftwarefoundation.python.3.11_qbz5n2kfra8p0\\localcache\\local-packages\\python311\\site-packages (from matplotlib->music21) (4.42.0)\n",
      "Requirement already satisfied: kiwisolver>=1.0.1 in c:\\users\\karan\\appdata\\local\\packages\\pythonsoftwarefoundation.python.3.11_qbz5n2kfra8p0\\localcache\\local-packages\\python311\\site-packages (from matplotlib->music21) (1.4.4)\n",
      "Requirement already satisfied: packaging>=20.0 in c:\\users\\karan\\appdata\\local\\packages\\pythonsoftwarefoundation.python.3.11_qbz5n2kfra8p0\\localcache\\local-packages\\python311\\site-packages (from matplotlib->music21) (23.1)\n",
      "Requirement already satisfied: pillow>=6.2.0 in c:\\users\\karan\\appdata\\local\\packages\\pythonsoftwarefoundation.python.3.11_qbz5n2kfra8p0\\localcache\\local-packages\\python311\\site-packages (from matplotlib->music21) (9.5.0)\n",
      "Requirement already satisfied: pyparsing<3.1,>=2.3.1 in c:\\users\\karan\\appdata\\local\\packages\\pythonsoftwarefoundation.python.3.11_qbz5n2kfra8p0\\localcache\\local-packages\\python311\\site-packages (from matplotlib->music21) (3.0.9)\n",
      "Requirement already satisfied: python-dateutil>=2.7 in c:\\users\\karan\\appdata\\local\\packages\\pythonsoftwarefoundation.python.3.11_qbz5n2kfra8p0\\localcache\\local-packages\\python311\\site-packages (from matplotlib->music21) (2.8.2)\n",
      "Requirement already satisfied: charset-normalizer<4,>=2 in c:\\users\\karan\\appdata\\local\\packages\\pythonsoftwarefoundation.python.3.11_qbz5n2kfra8p0\\localcache\\local-packages\\python311\\site-packages (from requests->music21) (3.2.0)\n",
      "Requirement already satisfied: idna<4,>=2.5 in c:\\users\\karan\\appdata\\local\\packages\\pythonsoftwarefoundation.python.3.11_qbz5n2kfra8p0\\localcache\\local-packages\\python311\\site-packages (from requests->music21) (3.4)\n",
      "Requirement already satisfied: urllib3<3,>=1.21.1 in c:\\users\\karan\\appdata\\local\\packages\\pythonsoftwarefoundation.python.3.11_qbz5n2kfra8p0\\localcache\\local-packages\\python311\\site-packages (from requests->music21) (1.26.16)\n",
      "Requirement already satisfied: certifi>=2017.4.17 in c:\\users\\karan\\appdata\\local\\packages\\pythonsoftwarefoundation.python.3.11_qbz5n2kfra8p0\\localcache\\local-packages\\python311\\site-packages (from requests->music21) (2023.7.22)\n",
      "Requirement already satisfied: six>=1.5 in c:\\users\\karan\\appdata\\local\\packages\\pythonsoftwarefoundation.python.3.11_qbz5n2kfra8p0\\localcache\\local-packages\\python311\\site-packages (from python-dateutil>=2.7->matplotlib->music21) (1.16.0)\n",
      "Downloading music21-9.1.0-py3-none-any.whl (22.8 MB)\n",
      "   ---------------------------------------- 0.0/22.8 MB ? eta -:--:--\n",
      "   ---------------------------------------- 0.2/22.8 MB 7.6 MB/s eta 0:00:03\n",
      "    --------------------------------------- 0.5/22.8 MB 6.6 MB/s eta 0:00:04\n",
      "   - -------------------------------------- 1.1/22.8 MB 8.4 MB/s eta 0:00:03\n",
      "   -- ------------------------------------- 1.4/22.8 MB 8.2 MB/s eta 0:00:03\n",
      "   --- ------------------------------------ 2.0/22.8 MB 8.9 MB/s eta 0:00:03\n",
      "   ---- ----------------------------------- 2.4/22.8 MB 8.9 MB/s eta 0:00:03\n",
      "   ----- ---------------------------------- 3.0/22.8 MB 9.5 MB/s eta 0:00:03\n",
      "   ----- ---------------------------------- 3.3/22.8 MB 9.6 MB/s eta 0:00:03\n",
      "   ------ --------------------------------- 3.8/22.8 MB 9.3 MB/s eta 0:00:03\n",
      "   ------- -------------------------------- 4.5/22.8 MB 10.0 MB/s eta 0:00:02\n",
      "   -------- ------------------------------- 5.0/22.8 MB 10.0 MB/s eta 0:00:02\n",
      "   ---------- ----------------------------- 5.7/22.8 MB 10.5 MB/s eta 0:00:02\n",
      "   ---------- ----------------------------- 5.7/22.8 MB 10.5 MB/s eta 0:00:02\n",
      "   ---------- ----------------------------- 6.2/22.8 MB 9.7 MB/s eta 0:00:02\n",
      "   ----------- ---------------------------- 6.4/22.8 MB 9.7 MB/s eta 0:00:02\n",
      "   ------------ --------------------------- 7.0/22.8 MB 9.3 MB/s eta 0:00:02\n",
      "   ------------- -------------------------- 7.4/22.8 MB 9.3 MB/s eta 0:00:02\n",
      "   ------------- -------------------------- 8.0/22.8 MB 9.4 MB/s eta 0:00:02\n",
      "   -------------- ------------------------- 8.5/22.8 MB 9.5 MB/s eta 0:00:02\n",
      "   ---------------- ----------------------- 9.2/22.8 MB 9.8 MB/s eta 0:00:02\n",
      "   ---------------- ----------------------- 9.6/22.8 MB 9.8 MB/s eta 0:00:02\n",
      "   ------------------ --------------------- 10.4/22.8 MB 10.2 MB/s eta 0:00:02\n",
      "   ------------------- -------------------- 11.1/22.8 MB 10.7 MB/s eta 0:00:02\n",
      "   --------------------- ------------------ 12.0/22.8 MB 11.3 MB/s eta 0:00:01\n",
      "   ---------------------- ----------------- 12.8/22.8 MB 11.7 MB/s eta 0:00:01\n",
      "   ----------------------- ---------------- 13.6/22.8 MB 12.4 MB/s eta 0:00:01\n",
      "   ------------------------- -------------- 14.5/22.8 MB 12.6 MB/s eta 0:00:01\n",
      "   ------------------------- -------------- 14.8/22.8 MB 12.4 MB/s eta 0:00:01\n",
      "   --------------------------- ------------ 15.5/22.8 MB 12.1 MB/s eta 0:00:01\n",
      "   --------------------------- ------------ 15.7/22.8 MB 12.1 MB/s eta 0:00:01\n",
      "   ---------------------------- ----------- 16.3/22.8 MB 12.4 MB/s eta 0:00:01\n",
      "   ----------------------------- ---------- 17.0/22.8 MB 13.4 MB/s eta 0:00:01\n",
      "   ------------------------------- -------- 17.8/22.8 MB 13.6 MB/s eta 0:00:01\n",
      "   ------------------------------- -------- 18.0/22.8 MB 13.9 MB/s eta 0:00:01\n",
      "   --------------------------------- ------ 18.9/22.8 MB 13.6 MB/s eta 0:00:01\n",
      "   ---------------------------------- ----- 19.7/22.8 MB 13.9 MB/s eta 0:00:01\n",
      "   ----------------------------------- ---- 20.4/22.8 MB 14.2 MB/s eta 0:00:01\n",
      "   ------------------------------------ --- 21.1/22.8 MB 13.9 MB/s eta 0:00:01\n",
      "   -------------------------------------- - 21.8/22.8 MB 13.9 MB/s eta 0:00:01\n",
      "   ---------------------------------------  22.5/22.8 MB 13.9 MB/s eta 0:00:01\n",
      "   ---------------------------------------  22.8/22.8 MB 13.9 MB/s eta 0:00:01\n",
      "   ---------------------------------------- 22.8/22.8 MB 12.8 MB/s eta 0:00:00\n",
      "Downloading webcolors-1.13-py3-none-any.whl (14 kB)\n",
      "Downloading chardet-5.2.0-py3-none-any.whl (199 kB)\n",
      "   ---------------------------------------- 0.0/199.4 kB ? eta -:--:--\n",
      "   --------------------------------------- 199.4/199.4 kB 12.6 MB/s eta 0:00:00\n",
      "Downloading jsonpickle-3.0.4-py3-none-any.whl (39 kB)\n",
      "Downloading more_itertools-10.2.0-py3-none-any.whl (57 kB)\n",
      "   ---------------------------------------- 0.0/57.0 kB ? eta -:--:--\n",
      "   ---------------------------------------- 57.0/57.0 kB 2.9 MB/s eta 0:00:00\n",
      "Installing collected packages: webcolors, more-itertools, jsonpickle, chardet, music21\n",
      "Successfully installed chardet-5.2.0 jsonpickle-3.0.4 more-itertools-10.2.0 music21-9.1.0 webcolors-1.13\n",
      "Note: you may need to restart the kernel to use updated packages.\n"
     ]
    }
   ],
   "source": [
    "%pip install sounddevice\n",
    "%pip install librosa\n",
    "%pip install music21"
   ]
  },
  {
   "cell_type": "code",
   "execution_count": 32,
   "metadata": {},
   "outputs": [],
   "source": [
    "import sounddevice as sd\n",
    "import numpy as np\n",
    "from scipy.io.wavfile import write\n",
    "import librosa"
   ]
  },
  {
   "cell_type": "code",
   "execution_count": 33,
   "metadata": {},
   "outputs": [],
   "source": [
    "def record_audio(duration, filename, fs=44100):\n",
    "    \"\"\"\n",
    "    Record audio for a given duration and save it as a .wav file.\n",
    "\n",
    "    Parameters:\n",
    "    duration (int): Duration of the recording in seconds\n",
    "    filename (str): Name of the file to save the recording\n",
    "    fs (int, optional): Sampling frequency. Defaults to 44100.\n",
    "    \"\"\"\n",
    "    print(\"Recording...\")\n",
    "    recording = sd.rec(int(duration * fs), samplerate=fs, channels=2)\n",
    "    sd.wait()  # Wait until recording is finished\n",
    "    print(\"Recording finished. Saving to file...\")\n",
    "    write(filename, fs, recording)  # Save as WAV file "
   ]
  },
  {
   "cell_type": "code",
   "execution_count": 34,
   "metadata": {},
   "outputs": [
    {
     "name": "stdout",
     "output_type": "stream",
     "text": [
      "   0 Microsoft Sound Mapper - Input, MME (2 in, 0 out)\n",
      "   1 Microphone (Realtek(R) Audio), MME (2 in, 0 out)\n",
      "*  2 Microphone (Razer Seiren Mini), MME (2 in, 0 out)\n",
      "   3 Microsoft Sound Mapper - Output, MME (0 in, 2 out)\n",
      "   4 Speakers (Realtek(R) Audio), MME (0 in, 2 out)\n",
      "   5 LG QHD (3- HD Audio Driver for , MME (0 in, 2 out)\n",
      "   6 Primary Sound Capture Driver, Windows DirectSound (2 in, 0 out)\n",
      "   7 Microphone (Realtek(R) Audio), Windows DirectSound (2 in, 0 out)\n",
      "   8 Microphone (Razer Seiren Mini), Windows DirectSound (2 in, 0 out)\n",
      "   9 Primary Sound Driver, Windows DirectSound (0 in, 8 out)\n",
      "  10 Speakers (Realtek(R) Audio), Windows DirectSound (0 in, 8 out)\n",
      "  11 LG QHD (3- HD Audio Driver for Display Audio), Windows DirectSound (0 in, 8 out)\n",
      "  12 Realtek ASIO, ASIO (2 in, 2 out)\n",
      "  13 LG QHD (3- HD Audio Driver for Display Audio), Windows WASAPI (0 in, 8 out)\n",
      "  14 Speakers (Realtek(R) Audio), Windows WASAPI (0 in, 8 out)\n",
      "  15 Microphone (Razer Seiren Mini), Windows WASAPI (1 in, 0 out)\n",
      "  16 Microphone (Realtek(R) Audio), Windows WASAPI (2 in, 0 out)\n",
      "  17 Microphone (Razer Seiren Mini), Windows WDM-KS (1 in, 0 out)\n",
      "  18 LG QHD (ACX HD Audio Speaker), Windows WDM-KS (0 in, 2 out)\n",
      "  19 Headphones (), Windows WDM-KS (0 in, 2 out)\n",
      "  20 Headphones (), Windows WDM-KS (0 in, 2 out)\n",
      "  21 Input (), Windows WDM-KS (2 in, 0 out)\n",
      "  22 Speakers 1 (Realtek HD Audio output with SST), Windows WDM-KS (0 in, 2 out)\n",
      "  23 Speakers 2 (Realtek HD Audio output with SST), Windows WDM-KS (0 in, 2 out)\n",
      "  24 PC Speaker (Realtek HD Audio output with SST), Windows WDM-KS (2 in, 0 out)\n",
      "  25 Stereo Mix (Realtek HD Audio Stereo input), Windows WDM-KS (2 in, 0 out)\n",
      "  26 Headphones 1 (Realtek HD Audio 2nd output with SST), Windows WDM-KS (0 in, 2 out)\n",
      "  27 Headphones 2 (Realtek HD Audio 2nd output with SST), Windows WDM-KS (0 in, 2 out)\n",
      "  28 PC Speaker (Realtek HD Audio 2nd output with SST), Windows WDM-KS (2 in, 0 out)\n",
      "  29 Microphone (Realtek HD Audio Mic input), Windows WDM-KS (2 in, 0 out)\n",
      "  30 Microphone 1 (Realtek HD Audio Mic input with SST), Windows WDM-KS (2 in, 0 out)\n",
      "  31 Microphone 2 (Realtek HD Audio Mic input with SST), Windows WDM-KS (4 in, 0 out)\n",
      "  32 Headphones (), Windows WDM-KS (0 in, 2 out)\n",
      "  33 Headphones (), Windows WDM-KS (0 in, 2 out)\n"
     ]
    }
   ],
   "source": [
    "print(sd.query_devices())"
   ]
  },
  {
   "cell_type": "code",
   "execution_count": 35,
   "metadata": {},
   "outputs": [],
   "source": [
    "sd.default.device = 2"
   ]
  },
  {
   "cell_type": "code",
   "execution_count": 36,
   "metadata": {},
   "outputs": [
    {
     "name": "stdout",
     "output_type": "stream",
     "text": [
      "Recording...\n",
      "Recording finished. Saving to file...\n"
     ]
    }
   ],
   "source": [
    "record_audio(2, 'output.wav')"
   ]
  },
  {
   "cell_type": "code",
   "execution_count": 37,
   "metadata": {},
   "outputs": [
    {
     "name": "stdout",
     "output_type": "stream",
     "text": [
      "[1578.2047  2976.2966  3001.9495  3038.6365     0.       164.03128\n",
      "  171.5041   179.43596 2561.2666  2567.084   2540.7153  2541.9692\n",
      " 2010.692   2002.4861  1526.4796  2002.1091  3836.0176  2866.129\n",
      " 3187.9749  2896.071   2407.057   2408.015   1265.5536  1271.2826\n",
      " 2680.5598  3037.7556  3026.4124  1703.0651  3093.3198  2681.3486\n",
      " 2674.3547   865.75977 1472.6602  1776.3608  3124.5918   149.51978\n",
      "  148.10428  145.94424  456.27017  446.27844  422.2783   414.11594\n",
      "  409.40308  538.05054  411.46463  413.21262  406.69928  403.832\n",
      "  407.15903  408.53427  408.06766  409.25528  413.85028  415.31378\n",
      "  415.0541   409.91873  408.9527   409.7081   408.77786  410.46146\n",
      "  411.52002  412.4391   415.03595  416.25824  413.7911   412.28394\n",
      "  409.58386  404.38397  399.93002  398.65817  397.855    396.92563\n",
      "  399.03003  403.4081   409.06558  409.83798  407.008    400.01025\n",
      "  396.10925  396.59708  402.1595   410.49326  415.9837   418.69986\n",
      "  415.3844   409.0498   406.06076]\n"
     ]
    }
   ],
   "source": [
    "# Load the audio file\n",
    "y, sr = librosa.load('output.wav')\n",
    "\n",
    "# Perform pitch detection\n",
    "pitches, magnitudes = librosa.piptrack(y=y, sr=sr)\n",
    "\n",
    "# Get the index of the maximum magnitude for each frame\n",
    "max_magnitudes = np.argmax(magnitudes, axis=0)\n",
    "\n",
    "# Get the pitches corresponding to the maximum magnitudes\n",
    "dominant_pitches = pitches[max_magnitudes, np.arange(magnitudes.shape[1])]\n",
    "\n",
    "print(dominant_pitches)"
   ]
  },
  {
   "cell_type": "code",
   "execution_count": 38,
   "metadata": {},
   "outputs": [
    {
     "name": "stdout",
     "output_type": "stream",
     "text": [
      "Pitch names: ['C', 'E', 'G']\n",
      "Root: C4\n",
      "Quality: major\n"
     ]
    }
   ],
   "source": [
    "from music21 import chord\n",
    "\n",
    "# Create a chord from a list of notes\n",
    "c = chord.Chord([\"C4\", \"E4\", \"G4\"])\n",
    "\n",
    "# Print the pitch names of the chord\n",
    "print(\"Pitch names:\", c.pitchNames)\n",
    "\n",
    "# Print the root of the chord\n",
    "print(\"Root:\", c.root())\n",
    "\n",
    "# Print the quality of the chord (major, minor, etc.)\n",
    "print(\"Quality:\", c.quality)"
   ]
  },
  {
   "cell_type": "code",
   "execution_count": null,
   "metadata": {},
   "outputs": [],
   "source": []
  }
 ],
 "metadata": {
  "kernelspec": {
   "display_name": "Python 3",
   "language": "python",
   "name": "python3"
  },
  "language_info": {
   "codemirror_mode": {
    "name": "ipython",
    "version": 3
   },
   "file_extension": ".py",
   "mimetype": "text/x-python",
   "name": "python",
   "nbconvert_exporter": "python",
   "pygments_lexer": "ipython3",
   "version": "3.11.9"
  }
 },
 "nbformat": 4,
 "nbformat_minor": 2
}
