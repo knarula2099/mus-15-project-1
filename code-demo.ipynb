{
 "cells": [
  {
   "cell_type": "markdown",
   "metadata": {},
   "source": [
    "# Pitch Recognition using Fast Fourter Transform(FFT)\n",
    "\n",
    "This notebook is a simple implementation of pitch recognition using Fast Fourier Transform(FFT). The idea is to use the FFT to convert the audio signal into frequency data \n",
    "measured in Hertz. This data can be used to identify the pitch of the audio signal and hence an idea of the note being played"
   ]
  },
  {
   "cell_type": "markdown",
   "metadata": {},
   "source": [
    "## Package Installation\n",
    "\n",
    "The project uses a series of packages that need to be installed. The packages are as follows:\n",
    "- sounddevice: this package is used to record and play audio\n",
    "- tqdm: this package is used to display a progress bar\n",
    "- kaleido: package used dot generate static images from plotly figures\n",
    "- plotly: package used to generate interactive plots\n",
    "- numpy: package used for numerical operations\n",
    "- scipy: package used for scientific operations\n",
    "- librosa: package used for audio processing"
   ]
  },
  {
   "cell_type": "code",
   "execution_count": 33,
   "metadata": {},
   "outputs": [
    {
     "name": "stdout",
     "output_type": "stream",
     "text": [
      "Requirement already satisfied: kaleido==0.1.0post1 in c:\\users\\karan\\appdata\\local\\packages\\pythonsoftwarefoundation.python.3.11_qbz5n2kfra8p0\\localcache\\local-packages\\python311\\site-packages (0.1.0.post1)\n",
      "Note: you may need to restart the kernel to use updated packages.\n",
      "Requirement already satisfied: tqdm in c:\\users\\karan\\appdata\\local\\packages\\pythonsoftwarefoundation.python.3.11_qbz5n2kfra8p0\\localcache\\local-packages\\python311\\site-packages (4.66.1)\n",
      "Requirement already satisfied: colorama in c:\\users\\karan\\appdata\\local\\packages\\pythonsoftwarefoundation.python.3.11_qbz5n2kfra8p0\\localcache\\local-packages\\python311\\site-packages (from tqdm) (0.4.6)\n",
      "Note: you may need to restart the kernel to use updated packages.\n",
      "Requirement already satisfied: sounddevice in c:\\users\\karan\\appdata\\local\\packages\\pythonsoftwarefoundation.python.3.11_qbz5n2kfra8p0\\localcache\\local-packages\\python311\\site-packages (0.4.7)Note: you may need to restart the kernel to use updated packages.\n",
      "\n",
      "Requirement already satisfied: CFFI>=1.0 in c:\\users\\karan\\appdata\\local\\packages\\pythonsoftwarefoundation.python.3.11_qbz5n2kfra8p0\\localcache\\local-packages\\python311\\site-packages (from sounddevice) (1.15.1)\n",
      "Requirement already satisfied: pycparser in c:\\users\\karan\\appdata\\local\\packages\\pythonsoftwarefoundation.python.3.11_qbz5n2kfra8p0\\localcache\\local-packages\\python311\\site-packages (from CFFI>=1.0->sounddevice) (2.21)\n",
      "Requirement already satisfied: librosa in c:\\users\\karan\\appdata\\local\\packages\\pythonsoftwarefoundation.python.3.11_qbz5n2kfra8p0\\localcache\\local-packages\\python311\\site-packages (0.10.2.post1)\n",
      "Requirement already satisfied: audioread>=2.1.9 in c:\\users\\karan\\appdata\\local\\packages\\pythonsoftwarefoundation.python.3.11_qbz5n2kfra8p0\\localcache\\local-packages\\python311\\site-packages (from librosa) (3.0.1)\n",
      "Requirement already satisfied: numpy!=1.22.0,!=1.22.1,!=1.22.2,>=1.20.3 in c:\\users\\karan\\appdata\\local\\packages\\pythonsoftwarefoundation.python.3.11_qbz5n2kfra8p0\\localcache\\local-packages\\python311\\site-packages (from librosa) (1.25.2)\n",
      "Requirement already satisfied: scipy>=1.2.0 in c:\\users\\karan\\appdata\\local\\packages\\pythonsoftwarefoundation.python.3.11_qbz5n2kfra8p0\\localcache\\local-packages\\python311\\site-packages (from librosa) (1.11.1)\n",
      "Requirement already satisfied: scikit-learn>=0.20.0 in c:\\users\\karan\\appdata\\local\\packages\\pythonsoftwarefoundation.python.3.11_qbz5n2kfra8p0\\localcache\\local-packages\\python311\\site-packages (from librosa) (1.4.1.post1)\n",
      "Requirement already satisfied: joblib>=0.14 in c:\\users\\karan\\appdata\\local\\packages\\pythonsoftwarefoundation.python.3.11_qbz5n2kfra8p0\\localcache\\local-packages\\python311\\site-packages (from librosa) (1.3.2)\n",
      "Requirement already satisfied: decorator>=4.3.0 in c:\\users\\karan\\appdata\\local\\packages\\pythonsoftwarefoundation.python.3.11_qbz5n2kfra8p0\\localcache\\local-packages\\python311\\site-packages (from librosa) (4.4.2)\n",
      "Requirement already satisfied: numba>=0.51.0 in c:\\users\\karan\\appdata\\local\\packages\\pythonsoftwarefoundation.python.3.11_qbz5n2kfra8p0\\localcache\\local-packages\\python311\\site-packages (from librosa) (0.59.1)\n",
      "Requirement already satisfied: soundfile>=0.12.1 in c:\\users\\karan\\appdata\\local\\packages\\pythonsoftwarefoundation.python.3.11_qbz5n2kfra8p0\\localcache\\local-packages\\python311\\site-packages (from librosa) (0.12.1)\n",
      "Requirement already satisfied: pooch>=1.1 in c:\\users\\karan\\appdata\\local\\packages\\pythonsoftwarefoundation.python.3.11_qbz5n2kfra8p0\\localcache\\local-packages\\python311\\site-packages (from librosa) (1.8.1)\n",
      "Requirement already satisfied: soxr>=0.3.2 in c:\\users\\karan\\appdata\\local\\packages\\pythonsoftwarefoundation.python.3.11_qbz5n2kfra8p0\\localcache\\local-packages\\python311\\site-packages (from librosa) (0.3.7)\n",
      "Requirement already satisfied: typing-extensions>=4.1.1 in c:\\users\\karan\\appdata\\local\\packages\\pythonsoftwarefoundation.python.3.11_qbz5n2kfra8p0\\localcache\\local-packages\\python311\\site-packages (from librosa) (4.11.0)\n",
      "Requirement already satisfied: lazy-loader>=0.1 in c:\\users\\karan\\appdata\\local\\packages\\pythonsoftwarefoundation.python.3.11_qbz5n2kfra8p0\\localcache\\local-packages\\python311\\site-packages (from librosa) (0.4)\n",
      "Requirement already satisfied: msgpack>=1.0 in c:\\users\\karan\\appdata\\local\\packages\\pythonsoftwarefoundation.python.3.11_qbz5n2kfra8p0\\localcache\\local-packages\\python311\\site-packages (from librosa) (1.0.8)\n",
      "Requirement already satisfied: packaging in c:\\users\\karan\\appdata\\local\\packages\\pythonsoftwarefoundation.python.3.11_qbz5n2kfra8p0\\localcache\\local-packages\\python311\\site-packages (from lazy-loader>=0.1->librosa) (23.1)\n",
      "Requirement already satisfied: llvmlite<0.43,>=0.42.0dev0 in c:\\users\\karan\\appdata\\local\\packages\\pythonsoftwarefoundation.python.3.11_qbz5n2kfra8p0\\localcache\\local-packages\\python311\\site-packages (from numba>=0.51.0->librosa) (0.42.0)\n",
      "Requirement already satisfied: platformdirs>=2.5.0 in c:\\users\\karan\\appdata\\local\\packages\\pythonsoftwarefoundation.python.3.11_qbz5n2kfra8p0\\localcache\\local-packages\\python311\\site-packages (from pooch>=1.1->librosa) (3.8.1)\n",
      "Requirement already satisfied: requests>=2.19.0 in c:\\users\\karan\\appdata\\local\\packages\\pythonsoftwarefoundation.python.3.11_qbz5n2kfra8p0\\localcache\\local-packages\\python311\\site-packages (from pooch>=1.1->librosa) (2.31.0)\n",
      "Requirement already satisfied: threadpoolctl>=2.0.0 in c:\\users\\karan\\appdata\\local\\packages\\pythonsoftwarefoundation.python.3.11_qbz5n2kfra8p0\\localcache\\local-packages\\python311\\site-packages (from scikit-learn>=0.20.0->librosa) (3.3.0)\n",
      "Requirement already satisfied: cffi>=1.0 in c:\\users\\karan\\appdata\\local\\packages\\pythonsoftwarefoundation.python.3.11_qbz5n2kfra8p0\\localcache\\local-packages\\python311\\site-packages (from soundfile>=0.12.1->librosa) (1.15.1)\n",
      "Requirement already satisfied: pycparser in c:\\users\\karan\\appdata\\local\\packages\\pythonsoftwarefoundation.python.3.11_qbz5n2kfra8p0\\localcache\\local-packages\\python311\\site-packages (from cffi>=1.0->soundfile>=0.12.1->librosa) (2.21)\n",
      "Requirement already satisfied: charset-normalizer<4,>=2 in c:\\users\\karan\\appdata\\local\\packages\\pythonsoftwarefoundation.python.3.11_qbz5n2kfra8p0\\localcache\\local-packages\\python311\\site-packages (from requests>=2.19.0->pooch>=1.1->librosa) (3.2.0)\n",
      "Requirement already satisfied: idna<4,>=2.5 in c:\\users\\karan\\appdata\\local\\packages\\pythonsoftwarefoundation.python.3.11_qbz5n2kfra8p0\\localcache\\local-packages\\python311\\site-packages (from requests>=2.19.0->pooch>=1.1->librosa) (3.4)\n",
      "Requirement already satisfied: urllib3<3,>=1.21.1 in c:\\users\\karan\\appdata\\local\\packages\\pythonsoftwarefoundation.python.3.11_qbz5n2kfra8p0\\localcache\\local-packages\\python311\\site-packages (from requests>=2.19.0->pooch>=1.1->librosa) (1.26.16)\n",
      "Requirement already satisfied: certifi>=2017.4.17 in c:\\users\\karan\\appdata\\local\\packages\\pythonsoftwarefoundation.python.3.11_qbz5n2kfra8p0\\localcache\\local-packages\\python311\\site-packages (from requests>=2.19.0->pooch>=1.1->librosa) (2023.7.22)\n",
      "Note: you may need to restart the kernel to use updated packages.\n"
     ]
    }
   ],
   "source": [
    "%pip install kaleido==0.1.0post1\n",
    "%pip install tqdm\n",
    "%pip install sounddevice\n",
    "%pip install librosa\n",
    "import sounddevice as sd\n",
    "import numpy as np\n",
    "import librosa\n",
    "from scipy.fftpack import fft\n",
    "from scipy.io import wavfile\n",
    "from scipy.io.wavfile import write\n",
    "import os\n",
    "import plotly.graph_objects as go\n",
    "import plotly.io as pio\n",
    "import tqdm\n",
    "import glob"
   ]
  },
  {
   "cell_type": "markdown",
   "metadata": {},
   "source": [
    "The code below goes through the setup process of the FFT operations. It sets the Frames per second, the range of time to make an fft windowq and the range of frequencies to consider. The code also sets the range of notes to consider.\n",
    "\n",
    "These parameters can be adjusted to improve the accuracy of the pitch recognition."
   ]
  },
  {
   "cell_type": "code",
   "execution_count": 34,
   "metadata": {},
   "outputs": [],
   "source": [
    "# Configuration\n",
    "FPS = 30\n",
    "FFT_WINDOW_SECONDS = 0.25 # how many seconds of audio make up an FFT window\n",
    "\n",
    "# Note range to display\n",
    "FREQ_MIN = 10\n",
    "FREQ_MAX = 1000\n",
    "\n",
    "# Notes to display\n",
    "TOP_NOTES = 3\n",
    "\n",
    "# Names of the notes\n",
    "NOTE_NAMES = [\"C\", \"C#\", \"D\", \"D#\", \"E\", \"F\", \"F#\", \"G\", \"G#\", \"A\", \"A#\", \"B\"]\n",
    "\n",
    "# Output size. Generally use SCALE for higher res, unless you need a non-standard aspect ratio.\n",
    "RESOLUTION = (1920, 1080)\n",
    "SCALE = 2 # 0.5=QHD(960x540), 1=HD(1920x1080), 2=4K(3840x2160)\n",
    "\n",
    "sd.default.device = 2"
   ]
  },
  {
   "cell_type": "markdown",
   "metadata": {},
   "source": [
    "The below code sets up the audio recording and playback functions. We execute the code in the following cell."
   ]
  },
  {
   "cell_type": "code",
   "execution_count": 35,
   "metadata": {},
   "outputs": [],
   "source": [
    "def record_audio(duration, filename, fs=44100):\n",
    "    print(\"Recording...\")\n",
    "    recording = sd.rec(int(duration * fs), samplerate=fs, channels=2)\n",
    "    sd.wait()  # Wait until recording is finished\n",
    "    print(\"Recording finished. Saving to file...\")\n",
    "    write(filename, fs, recording)  # Save as WAV file "
   ]
  },
  {
   "cell_type": "code",
   "execution_count": 38,
   "metadata": {},
   "outputs": [
    {
     "name": "stdout",
     "output_type": "stream",
     "text": [
      "Recording...\n",
      "Recording finished. Saving to file...\n"
     ]
    }
   ],
   "source": [
    "duration = 2\n",
    "filename = 'output.wav'\n",
    "record_audio(duration, filename)"
   ]
  },
  {
   "cell_type": "code",
   "execution_count": 36,
   "metadata": {},
   "outputs": [],
   "source": [
    "AUDIO_FILE = \"c-scale-demo.wav\" # EDIT THIS LINE TO USE YOUR OWN FILE\n",
    "\n",
    "fs, data = wavfile.read(AUDIO_FILE) # load the data\n",
    "\n",
    "# Check if the audio data has more than one channel\n",
    "if len(data.shape) > 1 and data.shape[1] > 1:\n",
    "    audio = data.T[0] # this is a two channel soundtrack, get the first track\n",
    "else:\n",
    "    audio = data # this is a mono soundtrack\n",
    "\n",
    "FRAME_STEP = (fs / FPS) # audio samples per video frame\n",
    "FFT_WINDOW_SIZE = int(fs * FFT_WINDOW_SECONDS)\n",
    "AUDIO_LENGTH = len(audio)/fs"
   ]
  },
  {
   "cell_type": "markdown",
   "metadata": {},
   "source": [
    "The lines below set up the FFT operations and the plots for the same. We can break down the three functions:\n",
    "\n",
    "1. `plot_fft`: This function plots the FFT of the audio signal. It creates a scatter trace of the power spectrum of fft against the frequencies of teh sound. Additionally, it annotates the graph with the note being recognized.\n",
    "2. `extract_sample`: It is degined to extract a sample audio data from a larger audio signam  for processing\n",
    "3. `find_top_notes`: this function is used to find the top notes in the audio signal. It uses the FFT to find the top frequencies in the audio signal and then maps these frequencies to notes."
   ]
  },
  {
   "cell_type": "code",
   "execution_count": 37,
   "metadata": {},
   "outputs": [],
   "source": [
    "def plot_fft(p, xf, fs, notes, dimensions=(960,540)):\n",
    "  layout = go.Layout(\n",
    "      title=\"frequency spectrum\",\n",
    "      autosize=False,\n",
    "      width=dimensions[0],\n",
    "      height=dimensions[1],\n",
    "      xaxis_title=\"Frequency (note)\",\n",
    "      yaxis_title=\"Magnitude\",\n",
    "      font={'size' : 24}\n",
    "  )\n",
    "\n",
    "  fig = go.Figure(layout=layout,\n",
    "                  layout_xaxis_range=[FREQ_MIN,FREQ_MAX],\n",
    "                  layout_yaxis_range=[0,1]\n",
    "                  )\n",
    "  \n",
    "  fig.add_trace(go.Scatter(\n",
    "      x = xf,\n",
    "      y = p))\n",
    "  \n",
    "  for note in notes:\n",
    "    fig.add_annotation(x=note[0]+10, y=note[2],\n",
    "            text=note[1],\n",
    "            font = {'size' : 48},\n",
    "            showarrow=False)\n",
    "  return fig\n",
    "\n",
    "def extract_sample(audio, frame_number):\n",
    "  end = frame_number * FRAME_OFFSET\n",
    "  begin = int(end - FFT_WINDOW_SIZE)\n",
    "\n",
    "  if end == 0:\n",
    "    # We have no audio yet, return all zeros (very beginning)\n",
    "    return np.zeros((np.abs(begin)),dtype=float)\n",
    "  elif begin<0:\n",
    "    # We have some audio, padd with zeros\n",
    "    return np.concatenate([np.zeros((np.abs(begin)),dtype=float),audio[0:end]])\n",
    "  else:\n",
    "    # Usually this happens, return the next sample\n",
    "    return audio[begin:end]\n",
    "\n",
    "def find_top_notes(fft,num):\n",
    "  if np.max(fft.real)<0.001:\n",
    "    return []\n",
    "\n",
    "  lst = [x for x in enumerate(fft.real)]\n",
    "  lst = sorted(lst, key=lambda x: x[1],reverse=True)\n",
    "\n",
    "  idx = 0\n",
    "  found = []\n",
    "  found_note = set()\n",
    "  while( (idx<len(lst)) and (len(found)<num) ):\n",
    "    f = xf[lst[idx][0]]\n",
    "    y = lst[idx][1]\n",
    "    n = freq_to_number(f)\n",
    "    n0 = int(round(n))\n",
    "    name = note_name(n0)\n",
    "\n",
    "    if name not in found_note:\n",
    "      found_note.add(name)\n",
    "      s = [f,note_name(n0),y]\n",
    "      found.append(s)\n",
    "    idx += 1\n",
    "    \n",
    "  return found"
   ]
  },
  {
   "cell_type": "markdown",
   "metadata": {},
   "source": [
    "The below cell block will execute the code and set up the functions for the FFT operations. It will generate frames for the FFT and the audio signal.\n",
    "\n",
    "We will then generate a plot of the FFT of the audio signal along with the most prominent notes in the audio signal in the next cell."
   ]
  },
  {
   "cell_type": "code",
   "execution_count": 39,
   "metadata": {},
   "outputs": [
    {
     "name": "stdout",
     "output_type": "stream",
     "text": [
      "Max amplitude: 31356926.787363894\n",
      "Producing frames...\n"
     ]
    },
    {
     "name": "stderr",
     "output_type": "stream",
     "text": [
      "100%|██████████| 223/223 [00:46<00:00,  4.75it/s]\n"
     ]
    }
   ],
   "source": [
    "png_files = glob.glob('frames/*.png')\n",
    "\n",
    "# Remove each file\n",
    "for file in png_files:\n",
    "    os.remove(file)\n",
    "\n",
    "# See https://newt.phys.unsw.edu.au/jw/notes.html\n",
    "def freq_to_number(f): return 69 + 12*np.log2(f/440.0)\n",
    "def number_to_freq(n): return 440 * 2.0**((n-69)/12.0)\n",
    "def note_name(n): return NOTE_NAMES[n % 12] + str(int(n/12 - 1))\n",
    "\n",
    "# Hanning window function\n",
    "window = 0.5 * (1 - np.cos(np.linspace(0, 2*np.pi, FFT_WINDOW_SIZE, False)))\n",
    "\n",
    "xf = np.fft.rfftfreq(FFT_WINDOW_SIZE, 1/fs)\n",
    "FRAME_COUNT = int(AUDIO_LENGTH*FPS)\n",
    "FRAME_OFFSET = int(len(audio)/FRAME_COUNT)\n",
    "\n",
    "# Pass 1, find out the maximum amplitude so we can scale.\n",
    "mx = 0\n",
    "for frame_number in range(FRAME_COUNT):\n",
    "  sample = extract_sample(audio, frame_number)\n",
    "\n",
    "  fft = np.fft.rfft(sample * window)\n",
    "  fft = np.abs(fft).real \n",
    "  mx = max(np.max(fft),mx)\n",
    "\n",
    "print(f\"Max amplitude: {mx}\")\n",
    "\n",
    "# Pass 2, produce the animation\n",
    "print(\"Producing frames...\")\n",
    "for frame_number in tqdm.tqdm(range(FRAME_COUNT)): \n",
    "  sample = extract_sample(audio, frame_number)\n",
    "\n",
    "  fft = np.fft.rfft(sample * window)\n",
    "  fft = np.abs(fft) / mx \n",
    "  \n",
    "  \n",
    "  s = find_top_notes(fft,TOP_NOTES)\n",
    "  \n",
    "  fig = plot_fft(fft.real,xf,fs,s,RESOLUTION)\n",
    "  try:\n",
    "    fig.write_image(f\"frames/frame{frame_number}.png\",scale=2)\n",
    "  except Exception as e:\n",
    "    print(f\"Error writing image: {e}\")\n"
   ]
  },
  {
   "cell_type": "code",
   "execution_count": 40,
   "metadata": {},
   "outputs": [
    {
     "name": "stderr",
     "output_type": "stream",
     "text": [
      "ffmpeg version 2024-05-27-git-01c7f68f7a-full_build-www.gyan.dev Copyright (c) 2000-2024 the FFmpeg developers\n",
      "  built with gcc 13.2.0 (Rev5, Built by MSYS2 project)\n",
      "  configuration: --enable-gpl --enable-version3 --enable-static --disable-w32threads --disable-autodetect --enable-fontconfig --enable-iconv --enable-gnutls --enable-libxml2 --enable-gmp --enable-bzlib --enable-lzma --enable-libsnappy --enable-zlib --enable-librist --enable-libsrt --enable-libssh --enable-libzmq --enable-avisynth --enable-libbluray --enable-libcaca --enable-sdl2 --enable-libaribb24 --enable-libaribcaption --enable-libdav1d --enable-libdavs2 --enable-libuavs3d --enable-libxevd --enable-libzvbi --enable-librav1e --enable-libsvtav1 --enable-libwebp --enable-libx264 --enable-libx265 --enable-libxavs2 --enable-libxeve --enable-libxvid --enable-libaom --enable-libjxl --enable-libopenjpeg --enable-libvpx --enable-mediafoundation --enable-libass --enable-frei0r --enable-libfreetype --enable-libfribidi --enable-libharfbuzz --enable-liblensfun --enable-libvidstab --enable-libvmaf --enable-libzimg --enable-amf --enable-cuda-llvm --enable-cuvid --enable-dxva2 --enable-d3d11va --enable-d3d12va --enable-ffnvcodec --enable-libvpl --enable-nvdec --enable-nvenc --enable-vaapi --enable-libshaderc --enable-vulkan --enable-libplacebo --enable-opencl --enable-libcdio --enable-libgme --enable-libmodplug --enable-libopenmpt --enable-libopencore-amrwb --enable-libmp3lame --enable-libshine --enable-libtheora --enable-libtwolame --enable-libvo-amrwbenc --enable-libcodec2 --enable-libilbc --enable-libgsm --enable-libopencore-amrnb --enable-libopus --enable-libspeex --enable-libvorbis --enable-ladspa --enable-libbs2b --enable-libflite --enable-libmysofa --enable-librubberband --enable-libsoxr --enable-chromaprint\n",
      "  libavutil      59. 20.100 / 59. 20.100\n",
      "  libavcodec     61.  5.104 / 61.  5.104\n",
      "  libavformat    61.  3.104 / 61.  3.104\n",
      "  libavdevice    61.  2.100 / 61.  2.100\n",
      "  libavfilter    10.  2.102 / 10.  2.102\n",
      "  libswscale      8.  2.100 /  8.  2.100\n",
      "  libswresample   5.  2.100 /  5.  2.100\n",
      "  libpostproc    58.  2.100 / 58.  2.100\n",
      "Input #0, image2, from 'frames/frame%d.png':\n",
      "  Duration: 00:00:07.43, start: 0.000000, bitrate: N/A\n",
      "  Stream #0:0: Video: png, rgba(pc, gbr/unknown/unknown), 3840x2160, 30 fps, 30 tbr, 30 tbn\n",
      "[aist#1:0/pcm_s16le @ 000001b88ce16400] Guessed Channel Layout: mono\n",
      "Input #1, wav, from 'c-scale-demo.wav':\n",
      "  Metadata:\n",
      "    title           : The Village at Torrey Pines East #1\n",
      "    encoder         : Lavf60.3.100\n",
      "  Duration: 00:00:07.45, bitrate: 768 kb/s\n",
      "  Stream #1:0: Audio: pcm_s16le ([1][0][0][0] / 0x0001), 48000 Hz, mono, s16, 768 kb/s\n",
      "Stream mapping:\n",
      "  Stream #0:0 -> #0:0 (png (native) -> h264 (libx264))\n",
      "  Stream #1:0 -> #0:1 (pcm_s16le (native) -> aac (native))\n",
      "Press [q] to stop, [?] for help\n",
      "[libx264 @ 000001b88cdba640] using cpu capabilities: MMX2 SSE2Fast SSSE3 SSE4.2 AVX FMA3 BMI2 AVX2\n",
      "[libx264 @ 000001b88cdba640] profile High, level 5.1, 4:2:0, 8-bit\n",
      "[libx264 @ 000001b88cdba640] 264 - core 164 r3191 4613ac3 - H.264/MPEG-4 AVC codec - Copyleft 2003-2024 - http://www.videolan.org/x264.html - options: cabac=1 ref=3 deblock=1:0:0 analyse=0x3:0x113 me=hex subme=7 psy=1 psy_rd=1.00:0.00 mixed_ref=1 me_range=16 chroma_me=1 trellis=1 8x8dct=1 cqm=0 deadzone=21,11 fast_pskip=1 chroma_qp_offset=-2 threads=30 lookahead_threads=5 sliced_threads=0 nr=0 decimate=1 interlaced=0 bluray_compat=0 constrained_intra=0 bframes=3 b_pyramid=2 b_adapt=1 b_bias=0 direct=1 weightb=1 open_gop=0 weightp=2 keyint=250 keyint_min=25 scenecut=40 intra_refresh=0 rc_lookahead=40 rc=crf mbtree=1 crf=23.0 qcomp=0.60 qpmin=0 qpmax=69 qpstep=4 ip_ratio=1.40 aq=1:1.00\n",
      "Output #0, mp4, to 'demo-movie.mp4':\n",
      "  Metadata:\n",
      "    encoder         : Lavf61.3.104\n",
      "  Stream #0:0: Video: h264 (avc1 / 0x31637661), yuv420p(progressive), 3840x2160, q=2-31, 30 fps, 15360 tbn\n",
      "      Metadata:\n",
      "        encoder         : Lavc61.5.104 libx264\n",
      "      Side data:\n",
      "        cpb: bitrate max/min/avg: 0/0/0 buffer size: 0 vbv_delay: N/A\n",
      "  Stream #0:1: Audio: aac (LC) (mp4a / 0x6134706D), 48000 Hz, mono, fltp, 69 kb/s\n",
      "      Metadata:\n",
      "        encoder         : Lavc61.5.104 aac\n",
      "frame=    0 fps=0.0 q=0.0 size=       0KiB time=N/A bitrate=N/A speed=N/A    \n",
      "frame=    0 fps=0.0 q=0.0 size=       0KiB time=N/A bitrate=N/A speed=N/A    \n",
      "frame=    0 fps=0.0 q=0.0 size=       0KiB time=N/A bitrate=N/A speed=N/A    \n",
      "frame=    0 fps=0.0 q=0.0 size=       0KiB time=N/A bitrate=N/A speed=N/A    \n",
      "frame=    0 fps=0.0 q=0.0 size=       0KiB time=N/A bitrate=N/A speed=N/A    \n",
      "frame=    0 fps=0.0 q=0.0 size=       0KiB time=N/A bitrate=N/A speed=N/A    \n",
      "frame=    5 fps=1.4 q=29.0 size=       0KiB time=00:00:00.10 bitrate=   3.8kbits/s speed=0.0278x    \n",
      "frame=   10 fps=2.4 q=29.0 size=       0KiB time=00:00:00.26 bitrate=   1.4kbits/s speed=0.0648x    \n",
      "frame=   21 fps=4.5 q=29.0 size=       0KiB time=00:00:00.63 bitrate=   0.6kbits/s speed=0.137x    \n",
      "frame=   22 fps=4.3 q=29.0 size=       0KiB time=00:00:00.66 bitrate=   0.6kbits/s speed=0.129x    \n",
      "frame=   27 fps=4.8 q=29.0 size=       0KiB time=00:00:00.83 bitrate=   0.5kbits/s speed=0.147x    \n",
      "frame=   34 fps=5.5 q=29.0 size=       0KiB time=00:00:01.06 bitrate=   0.4kbits/s speed=0.172x    \n",
      "frame=   38 fps=5.7 q=29.0 size=       0KiB time=00:00:01.20 bitrate=   0.3kbits/s speed=0.179x    \n",
      "frame=   42 fps=5.8 q=29.0 size=       0KiB time=00:00:01.33 bitrate=   0.3kbits/s speed=0.185x    \n",
      "frame=   46 fps=6.0 q=29.0 size=       0KiB time=00:00:01.46 bitrate=   0.3kbits/s speed=0.19x    \n",
      "frame=   61 fps=7.4 q=29.0 size=       0KiB time=00:00:01.96 bitrate=   0.2kbits/s speed=0.239x    \n",
      "frame=   87 fps=9.9 q=29.0 size=     256KiB time=00:00:02.83 bitrate= 740.3kbits/s speed=0.323x    \n",
      "frame=  107 fps= 12 q=29.0 size=     256KiB time=00:00:03.50 bitrate= 599.3kbits/s speed=0.377x    \n",
      "frame=  137 fps= 14 q=29.0 size=     512KiB time=00:00:04.50 bitrate= 932.2kbits/s speed=0.46x    \n",
      "[out#0/mp4 @ 000001b88ce165c0] video:962KiB audio:65KiB subtitle:0KiB other streams:0KiB global headers:0KiB muxing overhead: 0.881299%\n",
      "frame=  223 fps= 22 q=-1.0 Lsize=    1036KiB time=00:00:07.36 bitrate=1151.6kbits/s speed=0.716x    \n",
      "[libx264 @ 000001b88cdba640] frame I:1     Avg QP:11.86  size: 31972\n",
      "[libx264 @ 000001b88cdba640] frame P:107   Avg QP:15.28  size:  5444\n",
      "[libx264 @ 000001b88cdba640] frame B:115   Avg QP:17.65  size:  3216\n",
      "[libx264 @ 000001b88cdba640] consecutive B-frames: 22.4% 18.8% 22.9% 35.9%\n",
      "[libx264 @ 000001b88cdba640] mb I  I16..4: 90.2%  7.7%  2.1%\n",
      "[libx264 @ 000001b88cdba640] mb P  I16..4:  0.3%  0.4%  0.4%  P16..4:  0.6%  0.3%  0.1%  0.0%  0.0%    skip:97.9%\n",
      "[libx264 @ 000001b88cdba640] mb B  I16..4:  0.1%  0.0%  0.1%  B16..8:  1.2%  0.4%  0.1%  direct: 0.0%  skip:98.1%  L0:52.3% L1:43.7% BI: 4.0%\n",
      "[libx264 @ 000001b88cdba640] 8x8 transform intra:22.5% inter:42.8%\n",
      "[libx264 @ 000001b88cdba640] coded y,uvDC,uvAC intra: 15.7% 26.7% 22.5% inter: 0.2% 0.2% 0.1%\n",
      "[libx264 @ 000001b88cdba640] i16 v,h,dc,p: 71% 28%  1%  0%\n",
      "[libx264 @ 000001b88cdba640] i8 v,h,dc,ddl,ddr,vr,hd,vl,hu: 23%  9% 64%  1%  1%  1%  1%  1%  1%\n",
      "[libx264 @ 000001b88cdba640] i4 v,h,dc,ddl,ddr,vr,hd,vl,hu: 26% 23% 31%  4%  3%  3%  4%  3%  3%\n",
      "[libx264 @ 000001b88cdba640] i8c dc,h,v,p: 61% 27% 12%  0%\n",
      "[libx264 @ 000001b88cdba640] Weighted P-Frames: Y:0.0% UV:0.0%\n",
      "[libx264 @ 000001b88cdba640] ref P L0: 64.0%  4.5% 19.6% 11.8%\n",
      "[libx264 @ 000001b88cdba640] ref B L0: 74.5% 19.4%  6.2%\n",
      "[libx264 @ 000001b88cdba640] ref B L1: 97.1%  2.9%\n",
      "[libx264 @ 000001b88cdba640] kb/s:1059.36\n",
      "[aac @ 000001b88f615e40] Qavg: 615.290\n"
     ]
    }
   ],
   "source": [
    "!ffmpeg -y -r {FPS} -f image2 -s 1920x1080 -i frames/frame%d.png -i {AUDIO_FILE} -c:v libx264 -pix_fmt yuv420p demo-movie.mp4"
   ]
  },
  {
   "cell_type": "markdown",
   "metadata": {},
   "source": []
  },
  {
   "cell_type": "markdown",
   "metadata": {},
   "source": [
    "## Source of information:\n",
    "\n",
    "- Extract Musical notes in python with FFT: https://www.youtube.com/watch?v=rj9NOiFLxWA\n",
    "    - This video was used to understand the concept of FFT and how it can be used to extract musical notes from an audio signal. \n",
    "    - Alot of the code and fucntions used in this notebook are from the code provided in the video.\n",
    "- But what is the Fourier Transform? A visual introduction: https://www.youtube.com/watch?v=spUNpyF58BY\n",
    "    - This video was used to understand the concept of the Fourier Transform and how it can be used to convert a signal from the time domain to the frequency domain.\n",
    "- Note Recognition in Python: https://medium.com/@ianvonseggern/note-recognition-in-python-c2020d0dae24\n",
    "    - This article was used to understand the concept of note recognition and how it can be implemented in python.\n",
    "    - I did not end up using the code from this article but it was helpful in understanding the concept of note recognition.\n",
    "    - I did take the code to record and play audio from this article."
   ]
  },
  {
   "cell_type": "markdown",
   "metadata": {},
   "source": [
    "## Next Steps\n",
    "\n",
    "My main goal for the next project is to build an interactive UI that will allow the display of the FFT of the audio signal and the notes being played in real time. Unfortunately, I was not able to implement this in this project but I will be working on it in the next project. One of the main concerns I have is that the process of performing an FFT on the audio signal is computationally expensive and hence it may not be possible to perform the FFT in real time. I will be looking into ways to optimize the FFT operation to make it more efficient or a way to perform the FFT later along with a suggestion for how to transpose playback to better suit the user's needs."
   ]
  },
  {
   "cell_type": "markdown",
   "metadata": {},
   "source": []
  }
 ],
 "metadata": {
  "kernelspec": {
   "display_name": "Python 3 (ipykernel)",
   "language": "python",
   "name": "python3"
  },
  "language_info": {
   "codemirror_mode": {
    "name": "ipython",
    "version": 3
   },
   "file_extension": ".py",
   "mimetype": "text/x-python",
   "name": "python",
   "nbconvert_exporter": "python",
   "pygments_lexer": "ipython3",
   "version": "3.11.9"
  }
 },
 "nbformat": 4,
 "nbformat_minor": 2
}
